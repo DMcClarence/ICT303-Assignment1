{
  "nbformat": 4,
  "nbformat_minor": 0,
  "metadata": {
    "colab": {
      "provenance": [],
      "gpuType": "T4",
      "mount_file_id": "https://github.com/DMcClarence/ICT303-Assignment1/blob/main/ICT303_Assignment1.ipynb",
      "authorship_tag": "ABX9TyNwxktC0a6Co3RMXLwlUtml"
    },
    "kernelspec": {
      "name": "python3",
      "display_name": "Python 3"
    },
    "language_info": {
      "name": "python"
    },
    "accelerator": "GPU"
  },
  "cells": [
    {
      "cell_type": "code",
      "execution_count": 1,
      "metadata": {
        "id": "sErBd01nhySo",
        "outputId": "29cf2611-1dba-42e8-ac80-cbd33311b5eb",
        "colab": {
          "base_uri": "https://localhost:8080/"
        }
      },
      "outputs": [
        {
          "output_type": "stream",
          "name": "stdout",
          "text": [
            "Mounted at /gdrive\n",
            "/gdrive\n"
          ]
        }
      ],
      "source": [
        "# Set Up\n",
        "import os\n",
        "import torch\n",
        "from torch import nn\n",
        "\n",
        "from torch.utils.data import DataLoader\n",
        "from torchvision import datasets, transforms\n",
        "import torchvision\n",
        "\n",
        "import matplotlib.pyplot as plt\n",
        "import numpy as np\n",
        "\n",
        "from google.colab import drive\n",
        "drive.mount('/gdrive')\n",
        "%cd /gdrive\n",
        "\n",
        "device = torch.device(\"cuda\" if torch.cuda.is_available() else \"cpu\")"
      ]
    },
    {
      "cell_type": "code",
      "source": [
        "# Data Loader\n",
        "class DataLoader():\n",
        "  def __init__(self, dir=\"MyDrive/data\", width=300, height=432):\n",
        "    self.width = width\n",
        "    self.height = height\n",
        "    self.root = dir\n",
        "\n",
        "  def load(self, dataset=\"/test\", batchSize=10, shuffle=True, workers=2):\n",
        "    transform = transforms.Compose([transforms.Resize((124, 124)),\n",
        "                                    transforms.ToTensor(),\n",
        "                                    transforms.Normalize((0.5, 0.5, 0.5), (0.5, 0.5, 0.5))])\n",
        "\n",
        "    dataset = datasets.ImageFolder(root=self.root + dataset, transform=transform)\n",
        "    dataset = torch.utils.data.DataLoader(dataset, batch_size=batchSize, shuffle=shuffle, num_workers=workers)\n",
        "    return dataset\n"
      ],
      "metadata": {
        "id": "Hz6eIOSv9AIG"
      },
      "execution_count": 2,
      "outputs": []
    },
    {
      "cell_type": "code",
      "source": [
        "# Multilayer Perceptron\n",
        "class MLP(nn.Module):\n",
        "  def __init__(self, inputSize=124*124*3, outputSize=8, lr=0.01):\n",
        "    super().__init__()\n",
        "\n",
        "    self.net = nn.Sequential(\n",
        "      nn.Flatten(),\n",
        "      nn.Linear(inputSize, 1024),\n",
        "      nn.ReLU(),\n",
        "      nn.Linear(1024, 512),\n",
        "      nn.ReLU(),\n",
        "      nn.Linear(512, 256),\n",
        "      nn.ReLU(),\n",
        "      nn.Linear(256, outputSize),\n",
        "      nn.ReLU(),\n",
        "    )\n",
        "\n",
        "    self.lr = lr\n",
        "\n",
        "  def forward(self, X):\n",
        "    return self.net(X)\n",
        "\n",
        "  def loss(self, y_hat, y):\n",
        "    # print(y, y_hat)\n",
        "    fn = nn.CrossEntropyLoss()\n",
        "    return fn(y_hat, y)\n",
        "\n",
        "  def configureOptimiser(self):\n",
        "    return torch.optim.Adam(self.parameters(), self.lr)"
      ],
      "metadata": {
        "id": "6VGMRhXnlKFi"
      },
      "execution_count": 3,
      "outputs": []
    },
    {
      "cell_type": "code",
      "source": [
        "# Trainer Class\n",
        "class Trainer():\n",
        "  def __init__(self, nEpochs=3):\n",
        "    self.maxEpochs = nEpochs\n",
        "\n",
        "  def expLR(self, lr):\n",
        "    return lr * 0.95\n",
        "\n",
        "  # The fitting step\n",
        "  def fit(self, model, data):\n",
        "\n",
        "    self.data = data\n",
        "\n",
        "    # configure the optimizer\n",
        "    self.optimiser = model.configureOptimiser()\n",
        "    self.model = model\n",
        "\n",
        "    for epoch in range(self.maxEpochs):\n",
        "      print(\"Epoch: \", epoch + 1)\n",
        "      self.fitEpoch()\n",
        "      self.model.lr = self.expLR(self.model.lr)\n",
        "\n",
        "    print(\"Training process has finished\")\n",
        "\n",
        "  def fitEpoch(self):\n",
        "    currentLoss = 0.0\n",
        "\n",
        "    for i, data in enumerate(self.data):\n",
        "      # Get input aand its corresponding groundtruth output\n",
        "      inputs, target = data\n",
        "\n",
        "      self.optimiser.zero_grad()\n",
        "\n",
        "      # get output from the model, given the inputs\n",
        "      outputs = self.model(inputs)\n",
        "\n",
        "      # get loss for the predicted output\n",
        "      loss = self.model.loss(outputs, target)\n",
        "\n",
        "      # get gradients w.r.t the parameters of the model\n",
        "      loss.backward()\n",
        "\n",
        "      # update the parameters (perform optimization)\n",
        "      self.optimiser.step()\n",
        "\n",
        "      currentLoss += loss.item()\n",
        "      if i % 10 == 9:\n",
        "          print('Loss after mini-batch %5d: %.3f' %\n",
        "                (i + 1, currentLoss / 10))\n",
        "          currentLoss = 0.0\n",
        "\n",
        "  def evaluate(self, model, data):\n",
        "    allCorrect = 0\n",
        "    for images, labels in data:\n",
        "      outputs = model(images)\n",
        "      estLabel = torch.max(outputs, 1).indices\n",
        "      correct = sum(estLabel == labels)\n",
        "      allCorrect += correct\n",
        "    print(\"Correct: \", allCorrect, \"Total: \", len(data) * data.batch_size)"
      ],
      "metadata": {
        "id": "JtL1UCCmOLSK"
      },
      "execution_count": 4,
      "outputs": []
    },
    {
      "cell_type": "code",
      "source": [
        "# Train Model\n",
        "trainSet = DataLoader().load(dataset=\"/train\", batchSize=34, shuffle=True, workers=2)\n",
        "model = MLP(lr=1e-04)\n",
        "trainer = Trainer(nEpochs=10)\n",
        "trainer.fit(model, trainSet)\n",
        "trainer.evaluate(model=model, data=trainSet)"
      ],
      "metadata": {
        "id": "pjZbfGugN648",
        "outputId": "03e2a4dc-2e86-4812-96b2-42f3c52215e7",
        "colab": {
          "base_uri": "https://localhost:8080/"
        }
      },
      "execution_count": 7,
      "outputs": [
        {
          "output_type": "stream",
          "name": "stdout",
          "text": [
            "Epoch:  1\n",
            "Loss after mini-batch    10: 1.534\n",
            "Loss after mini-batch    20: 1.110\n",
            "Loss after mini-batch    30: 1.057\n",
            "Loss after mini-batch    40: 0.873\n",
            "Loss after mini-batch    50: 0.855\n",
            "Loss after mini-batch    60: 0.850\n",
            "Loss after mini-batch    70: 0.832\n",
            "Loss after mini-batch    80: 0.859\n",
            "Loss after mini-batch    90: 0.741\n",
            "Loss after mini-batch   100: 0.734\n",
            "Epoch:  2\n",
            "Loss after mini-batch    10: 0.646\n",
            "Loss after mini-batch    20: 0.604\n",
            "Loss after mini-batch    30: 0.628\n",
            "Loss after mini-batch    40: 0.574\n",
            "Loss after mini-batch    50: 0.607\n",
            "Loss after mini-batch    60: 0.552\n",
            "Loss after mini-batch    70: 0.594\n",
            "Loss after mini-batch    80: 0.625\n",
            "Loss after mini-batch    90: 0.477\n",
            "Loss after mini-batch   100: 0.496\n",
            "Epoch:  3\n",
            "Loss after mini-batch    10: 0.430\n",
            "Loss after mini-batch    20: 0.507\n",
            "Loss after mini-batch    30: 0.472\n",
            "Loss after mini-batch    40: 0.426\n",
            "Loss after mini-batch    50: 0.479\n",
            "Loss after mini-batch    60: 0.491\n",
            "Loss after mini-batch    70: 0.499\n",
            "Loss after mini-batch    80: 0.423\n",
            "Loss after mini-batch    90: 0.446\n",
            "Loss after mini-batch   100: 0.515\n",
            "Epoch:  4\n",
            "Loss after mini-batch    10: 0.425\n",
            "Loss after mini-batch    20: 0.438\n",
            "Loss after mini-batch    30: 0.432\n",
            "Loss after mini-batch    40: 0.418\n",
            "Loss after mini-batch    50: 0.401\n",
            "Loss after mini-batch    60: 0.503\n",
            "Loss after mini-batch    70: 0.404\n",
            "Loss after mini-batch    80: 0.451\n",
            "Loss after mini-batch    90: 0.390\n",
            "Loss after mini-batch   100: 0.396\n",
            "Epoch:  5\n",
            "Loss after mini-batch    10: 0.317\n",
            "Loss after mini-batch    20: 0.343\n",
            "Loss after mini-batch    30: 0.383\n",
            "Loss after mini-batch    40: 0.332\n",
            "Loss after mini-batch    50: 0.329\n",
            "Loss after mini-batch    60: 0.426\n",
            "Loss after mini-batch    70: 0.341\n",
            "Loss after mini-batch    80: 0.352\n",
            "Loss after mini-batch    90: 0.344\n",
            "Loss after mini-batch   100: 0.331\n",
            "Epoch:  6\n",
            "Loss after mini-batch    10: 0.267\n",
            "Loss after mini-batch    20: 0.320\n",
            "Loss after mini-batch    30: 0.295\n",
            "Loss after mini-batch    40: 0.287\n",
            "Loss after mini-batch    50: 0.280\n",
            "Loss after mini-batch    60: 0.292\n",
            "Loss after mini-batch    70: 0.312\n",
            "Loss after mini-batch    80: 0.323\n",
            "Loss after mini-batch    90: 0.304\n",
            "Loss after mini-batch   100: 0.313\n",
            "Epoch:  7\n",
            "Loss after mini-batch    10: 0.235\n",
            "Loss after mini-batch    20: 0.244\n",
            "Loss after mini-batch    30: 0.272\n",
            "Loss after mini-batch    40: 0.290\n",
            "Loss after mini-batch    50: 0.346\n",
            "Loss after mini-batch    60: 0.297\n",
            "Loss after mini-batch    70: 0.267\n",
            "Loss after mini-batch    80: 0.316\n",
            "Loss after mini-batch    90: 0.289\n",
            "Loss after mini-batch   100: 0.223\n",
            "Epoch:  8\n",
            "Loss after mini-batch    10: 0.309\n",
            "Loss after mini-batch    20: 0.207\n",
            "Loss after mini-batch    30: 0.260\n",
            "Loss after mini-batch    40: 0.214\n",
            "Loss after mini-batch    50: 0.299\n",
            "Loss after mini-batch    60: 0.299\n",
            "Loss after mini-batch    70: 0.339\n",
            "Loss after mini-batch    80: 0.292\n",
            "Loss after mini-batch    90: 0.299\n",
            "Loss after mini-batch   100: 0.326\n",
            "Epoch:  9\n",
            "Loss after mini-batch    10: 0.261\n",
            "Loss after mini-batch    20: 0.201\n",
            "Loss after mini-batch    30: 0.227\n",
            "Loss after mini-batch    40: 0.270\n",
            "Loss after mini-batch    50: 0.233\n",
            "Loss after mini-batch    60: 0.237\n",
            "Loss after mini-batch    70: 0.219\n",
            "Loss after mini-batch    80: 0.190\n",
            "Loss after mini-batch    90: 0.236\n",
            "Loss after mini-batch   100: 0.240\n",
            "Epoch:  10\n",
            "Loss after mini-batch    10: 0.146\n",
            "Loss after mini-batch    20: 0.174\n",
            "Loss after mini-batch    30: 0.207\n",
            "Loss after mini-batch    40: 0.176\n",
            "Loss after mini-batch    50: 0.178\n",
            "Loss after mini-batch    60: 0.183\n",
            "Loss after mini-batch    70: 0.253\n",
            "Loss after mini-batch    80: 0.212\n",
            "Loss after mini-batch    90: 0.175\n",
            "Loss after mini-batch   100: 0.167\n",
            "Training process has finished\n",
            "Correct:  tensor(3321) Total:  3468\n"
          ]
        }
      ]
    },
    {
      "cell_type": "code",
      "source": [
        "# Evaluate Model\n",
        "def imgShow(img):\n",
        "    img = img / 2 + 0.5 # unnormalize\n",
        "    npimg = img.numpy()\n",
        "    plt.imshow(np.transpose(npimg, (1, 2, 0)))\n",
        "    plt.show()\n",
        "\n",
        "validloader = DataLoader().load(dataset=\"/valid\", batchSize=10, shuffle=True, workers=2)\n",
        "classes = validloader.dataset.classes\n",
        "\n",
        "dataiter = iter(validloader)\n",
        "images, labels = next(dataiter)\n",
        "\n",
        "imgShow(torchvision.utils.make_grid(images))\n",
        "print('GroundTruth: ', ' '.join(f'{classes[labels[j]]:5s}' for j in range(images.shape[0])))\n",
        "\n",
        "output = model(images)\n",
        "estimatedLabels = torch.max(output, 1).indices\n",
        "\n",
        "print('Estimated Labels: ', ' '.join(f'{classes[estimatedLabels[j]]:5s}' for j in range(images.shape[0])))\n",
        "\n",
        "trainer.evaluate(model=model, data=validloader)"
      ],
      "metadata": {
        "id": "XB1tsjsDmcDz",
        "outputId": "2e47ae34-9c42-4528-e302-3cd0f9ce1d0c",
        "colab": {
          "base_uri": "https://localhost:8080/",
          "height": 243
        }
      },
      "execution_count": 8,
      "outputs": [
        {
          "output_type": "display_data",
          "data": {
            "text/plain": [
              "<Figure size 640x480 with 1 Axes>"
            ],
            "image/png": "[encoded data removed]"
          },
          "metadata": {}
        },
        {
          "output_type": "stream",
          "name": "stdout",
          "text": [
            "GroundTruth:  shirts knitwear shorts shirts jackets shoes shoes shirts jackets shoes\n",
            "Estimated Labels:  shirts tees  shorts shirts tees  shoes shoes tees  shirts shoes\n",
            "Correct:  tensor(333) Total:  390\n"
          ]
        }
      ]
    }
  ]
}